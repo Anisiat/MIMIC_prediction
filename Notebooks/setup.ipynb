{
 "cells": [
  {
   "cell_type": "code",
   "execution_count": 2,
   "id": "eb1509a5",
   "metadata": {},
   "outputs": [],
   "source": [
    "# Get the directory of the current notebook\n",
    "notebook_dir = os.path.dirname(os.path.abspath('setup.ipynb'))\n",
    "\n",
    "# Get the project root (parent directory)\n",
    "project_root = os.path.dirname(notebook_dir)\n",
    "sys.path.append(project_root)"
   ]
  },
  {
   "cell_type": "code",
   "execution_count": 7,
   "id": "ab6b0dfe",
   "metadata": {},
   "outputs": [],
   "source": [
    "from dotenv import load_dotenv\n",
    "import os\n",
    "import sys\n",
    "from google.cloud import bigquery\n",
    "import pandas as pd\n",
    "from my_utils.utils import test_function\n",
    "\n",
    "load_dotenv()  # Loads variables from .env into os.environ\n",
    "\n",
    "credentials_path = os.getenv(\"GOOGLE_APPLICATION_CREDENTIALS\") # Gets the value of GOOGLE_APPLICATION_CREDENTIALS from the environment\n",
    "\n",
    "os.environ[\"GOOGLE_APPLICATION_CREDENTIALS\"] = credentials_path # Explicitly sets (or ensures) the environment variable inside Python's os.environ\n"
   ]
  },
  {
   "cell_type": "code",
   "execution_count": 8,
   "id": "4d625ba3",
   "metadata": {},
   "outputs": [],
   "source": [
    "# Initialize BigQuery client\n",
    "client = bigquery.Client()"
   ]
  },
  {
   "cell_type": "code",
   "execution_count": 9,
   "id": "3b241579",
   "metadata": {
    "vscode": {
     "languageId": "sql"
    }
   },
   "outputs": [
    {
     "ename": "IndentationError",
     "evalue": "unindent does not match any outer indentation level (<string>, line 43)",
     "output_type": "error",
     "traceback": [
      "  \u001b[36mFile \u001b[39m\u001b[32m<string>:43\u001b[39m\n\u001b[31m    \u001b[39m\u001b[31mAND patho.chartdate = non_esbl.chartdate\u001b[39m\n                                            ^\n\u001b[31mIndentationError\u001b[39m\u001b[31m:\u001b[39m unindent does not match any outer indentation level\n"
     ]
    }
   ],
   "source": [
    "WITH cephalosporin_resistant AS (\n",
    "  SELECT subject_id, chartdate\n",
    "  FROM `physionet-data.mimiciv_3_1_hosp.microbiologyevents`\n",
    "  WHERE interpretation = 'R'\n",
    "    AND LOWER(ab_name) LIKE '%cef%'\n",
    "),\n",
    "\n",
    "carbapenem_susceptible AS (\n",
    "  SELECT subject_id, chartdate\n",
    "  FROM `physionet-data.mimiciv_3_1_hosp.microbiologyevents`\n",
    "  WHERE interpretation = 'S'\n",
    "    AND LOWER(ab_name) LIKE '%enem%'\n",
    "    AND LOWER(ab_name) NOT LIKE '%actam%' -- exclude combination therapies\n",
    "),\n",
    "\n",
    "-- Combine the above to identify ESBL profiles\n",
    "esbl_profile AS (\n",
    "  SELECT DISTINCT ceph.subject_id, ceph.chartdate\n",
    "  FROM cephalosporin_resistant ceph\n",
    "  INNER JOIN carbapenem_susceptible carb\n",
    "    ON ceph.subject_id = carb.subject_id\n",
    "   AND ceph.chartdate = carb.chartdate\n",
    "),\n",
    "\n",
    "-- filter for non-ESBL EKP samples\n",
    "non_esbl_ekp_samples AS (\n",
    "  SELECT DISTINCT subject_id, chartdate\n",
    "  FROM `physionet-data.mimiciv_3_1_hosp.microbiologyevents`\n",
    "  WHERE (\n",
    "    LOWER(org_name) LIKE '%escherichia coli%'\n",
    "    OR LOWER(org_name) LIKE '%klebsiella pneumoniae%'\n",
    "    OR LOWER(org_name) LIKE '%proteus mirabilis%'\n",
    "  )\n",
    "  EXCEPT DISTINCT\n",
    "  SELECT * FROM esbl_profile\n",
    ")\n",
    "\n",
    "-- Pull all antibiogram entries for those non-ESBL EKP samples\n",
    "SELECT patho.*\n",
    "FROM `physionet-data.mimiciv_3_1_hosp.microbiologyevents` AS patho\n",
    "JOIN non_esbl_ekp_samples AS non_esbl\n",
    "  ON patho.subject_id = non_esbl.subject_id\n",
    " AND patho.chartdate = non_esbl.chartdate\n",
    "WHERE (\n",
    "  LOWER(patho.org_name) LIKE '%escherichia coli%'\n",
    "  OR LOWER(patho.org_name) LIKE '%klebsiella pneumoniae%'\n",
    "  OR LOWER(patho.org_name) LIKE '%proteus mirabilis%'\n",
    ")\n",
    "AND patho.interpretation IS NOT NULL\n",
    "ORDER BY patho.subject_id, patho.chartdate;"
   ]
  },
  {
   "cell_type": "code",
   "execution_count": 7,
   "id": "af726209",
   "metadata": {},
   "outputs": [
    {
     "ename": "Forbidden",
     "evalue": "403 Access Denied: Table physionet-data:mimiciv_3_1_hosp.microbiologyevents: User does not have permission to query table physionet-data:mimiciv_3_1_hosp.microbiologyevents, or perhaps it does not exist.; reason: accessDenied, message: Access Denied: Table physionet-data:mimiciv_3_1_hosp.microbiologyevents: User does not have permission to query table physionet-data:mimiciv_3_1_hosp.microbiologyevents, or perhaps it does not exist.\n\nLocation: US\nJob ID: 0d016b82-58a3-4cf0-9515-cd223768ad54\n",
     "output_type": "error",
     "traceback": [
      "\u001b[31m---------------------------------------------------------------------------\u001b[39m",
      "\u001b[31mForbidden\u001b[39m                                 Traceback (most recent call last)",
      "\u001b[36mCell\u001b[39m\u001b[36m \u001b[39m\u001b[32mIn[7]\u001b[39m\u001b[32m, line 57\u001b[39m\n\u001b[32m      1\u001b[39m query = \u001b[33m\"\"\"\u001b[39m\n\u001b[32m      2\u001b[39m \u001b[33m    WITH cephalosporin_resistant AS (\u001b[39m\n\u001b[32m      3\u001b[39m \u001b[33m  SELECT subject_id, chartdate\u001b[39m\n\u001b[32m   (...)\u001b[39m\u001b[32m     52\u001b[39m \n\u001b[32m     53\u001b[39m \u001b[33m\"\"\"\u001b[39m\n\u001b[32m     55\u001b[39m query_job = client.query(query)\n\u001b[32m---> \u001b[39m\u001b[32m57\u001b[39m \u001b[43mquery_job\u001b[49m\u001b[43m.\u001b[49m\u001b[43mresult\u001b[49m\u001b[43m(\u001b[49m\u001b[43m)\u001b[49m\n\u001b[32m     59\u001b[39m df = query_job.result().to_dataframe()\n\u001b[32m     61\u001b[39m \u001b[38;5;28mprint\u001b[39m(df.head())\n",
      "\u001b[36mFile \u001b[39m\u001b[32m~/miniconda3/envs/mimic_env/lib/python3.13/site-packages/google/cloud/bigquery/job/query.py:1696\u001b[39m, in \u001b[36mQueryJob.result\u001b[39m\u001b[34m(self, page_size, max_results, retry, timeout, start_index, job_retry)\u001b[39m\n\u001b[32m   1691\u001b[39m     remaining_timeout = \u001b[38;5;28;01mNone\u001b[39;00m\n\u001b[32m   1693\u001b[39m \u001b[38;5;28;01mif\u001b[39;00m remaining_timeout \u001b[38;5;129;01mis\u001b[39;00m \u001b[38;5;28;01mNone\u001b[39;00m:\n\u001b[32m   1694\u001b[39m     \u001b[38;5;66;03m# Since is_job_done() calls jobs.getQueryResults, which is a\u001b[39;00m\n\u001b[32m   1695\u001b[39m     \u001b[38;5;66;03m# long-running API, don't delay the next request at all.\u001b[39;00m\n\u001b[32m-> \u001b[39m\u001b[32m1696\u001b[39m     \u001b[38;5;28;01mwhile\u001b[39;00m \u001b[38;5;129;01mnot\u001b[39;00m \u001b[43mis_job_done\u001b[49m\u001b[43m(\u001b[49m\u001b[43m)\u001b[49m:\n\u001b[32m   1697\u001b[39m         \u001b[38;5;28;01mpass\u001b[39;00m\n\u001b[32m   1698\u001b[39m \u001b[38;5;28;01melse\u001b[39;00m:\n\u001b[32m   1699\u001b[39m     \u001b[38;5;66;03m# Use a monotonic clock since we don't actually care about\u001b[39;00m\n\u001b[32m   1700\u001b[39m     \u001b[38;5;66;03m# daylight savings or similar, just the elapsed time.\u001b[39;00m\n",
      "\u001b[36mFile \u001b[39m\u001b[32m~/miniconda3/envs/mimic_env/lib/python3.13/site-packages/google/api_core/retry/retry_unary.py:293\u001b[39m, in \u001b[36mRetry.__call__.<locals>.retry_wrapped_func\u001b[39m\u001b[34m(*args, **kwargs)\u001b[39m\n\u001b[32m    289\u001b[39m target = functools.partial(func, *args, **kwargs)\n\u001b[32m    290\u001b[39m sleep_generator = exponential_sleep_generator(\n\u001b[32m    291\u001b[39m     \u001b[38;5;28mself\u001b[39m._initial, \u001b[38;5;28mself\u001b[39m._maximum, multiplier=\u001b[38;5;28mself\u001b[39m._multiplier\n\u001b[32m    292\u001b[39m )\n\u001b[32m--> \u001b[39m\u001b[32m293\u001b[39m \u001b[38;5;28;01mreturn\u001b[39;00m \u001b[43mretry_target\u001b[49m\u001b[43m(\u001b[49m\n\u001b[32m    294\u001b[39m \u001b[43m    \u001b[49m\u001b[43mtarget\u001b[49m\u001b[43m,\u001b[49m\n\u001b[32m    295\u001b[39m \u001b[43m    \u001b[49m\u001b[38;5;28;43mself\u001b[39;49m\u001b[43m.\u001b[49m\u001b[43m_predicate\u001b[49m\u001b[43m,\u001b[49m\n\u001b[32m    296\u001b[39m \u001b[43m    \u001b[49m\u001b[43msleep_generator\u001b[49m\u001b[43m,\u001b[49m\n\u001b[32m    297\u001b[39m \u001b[43m    \u001b[49m\u001b[43mtimeout\u001b[49m\u001b[43m=\u001b[49m\u001b[38;5;28;43mself\u001b[39;49m\u001b[43m.\u001b[49m\u001b[43m_timeout\u001b[49m\u001b[43m,\u001b[49m\n\u001b[32m    298\u001b[39m \u001b[43m    \u001b[49m\u001b[43mon_error\u001b[49m\u001b[43m=\u001b[49m\u001b[43mon_error\u001b[49m\u001b[43m,\u001b[49m\n\u001b[32m    299\u001b[39m \u001b[43m\u001b[49m\u001b[43m)\u001b[49m\n",
      "\u001b[36mFile \u001b[39m\u001b[32m~/miniconda3/envs/mimic_env/lib/python3.13/site-packages/google/api_core/retry/retry_unary.py:153\u001b[39m, in \u001b[36mretry_target\u001b[39m\u001b[34m(target, predicate, sleep_generator, timeout, on_error, exception_factory, **kwargs)\u001b[39m\n\u001b[32m    149\u001b[39m \u001b[38;5;66;03m# pylint: disable=broad-except\u001b[39;00m\n\u001b[32m    150\u001b[39m \u001b[38;5;66;03m# This function explicitly must deal with broad exceptions.\u001b[39;00m\n\u001b[32m    151\u001b[39m \u001b[38;5;28;01mexcept\u001b[39;00m \u001b[38;5;167;01mException\u001b[39;00m \u001b[38;5;28;01mas\u001b[39;00m exc:\n\u001b[32m    152\u001b[39m     \u001b[38;5;66;03m# defer to shared logic for handling errors\u001b[39;00m\n\u001b[32m--> \u001b[39m\u001b[32m153\u001b[39m     \u001b[43m_retry_error_helper\u001b[49m\u001b[43m(\u001b[49m\n\u001b[32m    154\u001b[39m \u001b[43m        \u001b[49m\u001b[43mexc\u001b[49m\u001b[43m,\u001b[49m\n\u001b[32m    155\u001b[39m \u001b[43m        \u001b[49m\u001b[43mdeadline\u001b[49m\u001b[43m,\u001b[49m\n\u001b[32m    156\u001b[39m \u001b[43m        \u001b[49m\u001b[43msleep\u001b[49m\u001b[43m,\u001b[49m\n\u001b[32m    157\u001b[39m \u001b[43m        \u001b[49m\u001b[43merror_list\u001b[49m\u001b[43m,\u001b[49m\n\u001b[32m    158\u001b[39m \u001b[43m        \u001b[49m\u001b[43mpredicate\u001b[49m\u001b[43m,\u001b[49m\n\u001b[32m    159\u001b[39m \u001b[43m        \u001b[49m\u001b[43mon_error\u001b[49m\u001b[43m,\u001b[49m\n\u001b[32m    160\u001b[39m \u001b[43m        \u001b[49m\u001b[43mexception_factory\u001b[49m\u001b[43m,\u001b[49m\n\u001b[32m    161\u001b[39m \u001b[43m        \u001b[49m\u001b[43mtimeout\u001b[49m\u001b[43m,\u001b[49m\n\u001b[32m    162\u001b[39m \u001b[43m    \u001b[49m\u001b[43m)\u001b[49m\n\u001b[32m    163\u001b[39m     \u001b[38;5;66;03m# if exception not raised, sleep before next attempt\u001b[39;00m\n\u001b[32m    164\u001b[39m     time.sleep(sleep)\n",
      "\u001b[36mFile \u001b[39m\u001b[32m~/miniconda3/envs/mimic_env/lib/python3.13/site-packages/google/api_core/retry/retry_base.py:212\u001b[39m, in \u001b[36m_retry_error_helper\u001b[39m\u001b[34m(exc, deadline, next_sleep, error_list, predicate_fn, on_error_fn, exc_factory_fn, original_timeout)\u001b[39m\n\u001b[32m    206\u001b[39m \u001b[38;5;28;01mif\u001b[39;00m \u001b[38;5;129;01mnot\u001b[39;00m predicate_fn(exc):\n\u001b[32m    207\u001b[39m     final_exc, source_exc = exc_factory_fn(\n\u001b[32m    208\u001b[39m         error_list,\n\u001b[32m    209\u001b[39m         RetryFailureReason.NON_RETRYABLE_ERROR,\n\u001b[32m    210\u001b[39m         original_timeout,\n\u001b[32m    211\u001b[39m     )\n\u001b[32m--> \u001b[39m\u001b[32m212\u001b[39m     \u001b[38;5;28;01mraise\u001b[39;00m final_exc \u001b[38;5;28;01mfrom\u001b[39;00m\u001b[38;5;250m \u001b[39m\u001b[34;01msource_exc\u001b[39;00m\n\u001b[32m    213\u001b[39m \u001b[38;5;28;01mif\u001b[39;00m on_error_fn \u001b[38;5;129;01mis\u001b[39;00m \u001b[38;5;129;01mnot\u001b[39;00m \u001b[38;5;28;01mNone\u001b[39;00m:\n\u001b[32m    214\u001b[39m     on_error_fn(exc)\n",
      "\u001b[36mFile \u001b[39m\u001b[32m~/miniconda3/envs/mimic_env/lib/python3.13/site-packages/google/api_core/retry/retry_unary.py:144\u001b[39m, in \u001b[36mretry_target\u001b[39m\u001b[34m(target, predicate, sleep_generator, timeout, on_error, exception_factory, **kwargs)\u001b[39m\n\u001b[32m    142\u001b[39m \u001b[38;5;28;01mfor\u001b[39;00m sleep \u001b[38;5;129;01min\u001b[39;00m sleep_generator:\n\u001b[32m    143\u001b[39m     \u001b[38;5;28;01mtry\u001b[39;00m:\n\u001b[32m--> \u001b[39m\u001b[32m144\u001b[39m         result = \u001b[43mtarget\u001b[49m\u001b[43m(\u001b[49m\u001b[43m)\u001b[49m\n\u001b[32m    145\u001b[39m         \u001b[38;5;28;01mif\u001b[39;00m inspect.isawaitable(result):\n\u001b[32m    146\u001b[39m             warnings.warn(_ASYNC_RETRY_WARNING)\n",
      "\u001b[36mFile \u001b[39m\u001b[32m~/miniconda3/envs/mimic_env/lib/python3.13/site-packages/google/cloud/bigquery/job/query.py:1645\u001b[39m, in \u001b[36mQueryJob.result.<locals>.is_job_done\u001b[39m\u001b[34m()\u001b[39m\n\u001b[32m   1622\u001b[39m \u001b[38;5;28;01mif\u001b[39;00m job_failed_exception \u001b[38;5;129;01mis\u001b[39;00m \u001b[38;5;129;01mnot\u001b[39;00m \u001b[38;5;28;01mNone\u001b[39;00m:\n\u001b[32m   1623\u001b[39m     \u001b[38;5;66;03m# Only try to restart the query job if the job failed for\u001b[39;00m\n\u001b[32m   1624\u001b[39m     \u001b[38;5;66;03m# a retriable reason. For example, don't restart the query\u001b[39;00m\n\u001b[32m   (...)\u001b[39m\u001b[32m   1642\u001b[39m     \u001b[38;5;66;03m# into an exception that can be processed by the\u001b[39;00m\n\u001b[32m   1643\u001b[39m     \u001b[38;5;66;03m# `job_retry` predicate.\u001b[39;00m\n\u001b[32m   1644\u001b[39m     restart_query_job = \u001b[38;5;28;01mTrue\u001b[39;00m\n\u001b[32m-> \u001b[39m\u001b[32m1645\u001b[39m     \u001b[38;5;28;01mraise\u001b[39;00m job_failed_exception\n\u001b[32m   1646\u001b[39m \u001b[38;5;28;01melse\u001b[39;00m:\n\u001b[32m   1647\u001b[39m     \u001b[38;5;66;03m# Make sure that the _query_results are cached so we\u001b[39;00m\n\u001b[32m   1648\u001b[39m     \u001b[38;5;66;03m# can return a complete RowIterator.\u001b[39;00m\n\u001b[32m   (...)\u001b[39m\u001b[32m   1654\u001b[39m     \u001b[38;5;66;03m# making any extra API calls if the previous loop\u001b[39;00m\n\u001b[32m   1655\u001b[39m     \u001b[38;5;66;03m# iteration fetched the finished job.\u001b[39;00m\n\u001b[32m   1656\u001b[39m     \u001b[38;5;28mself\u001b[39m._reload_query_results(\n\u001b[32m   1657\u001b[39m         retry=retry, **reload_query_results_kwargs\n\u001b[32m   1658\u001b[39m     )\n",
      "\u001b[31mForbidden\u001b[39m: 403 Access Denied: Table physionet-data:mimiciv_3_1_hosp.microbiologyevents: User does not have permission to query table physionet-data:mimiciv_3_1_hosp.microbiologyevents, or perhaps it does not exist.; reason: accessDenied, message: Access Denied: Table physionet-data:mimiciv_3_1_hosp.microbiologyevents: User does not have permission to query table physionet-data:mimiciv_3_1_hosp.microbiologyevents, or perhaps it does not exist.\n\nLocation: US\nJob ID: 0d016b82-58a3-4cf0-9515-cd223768ad54\n"
     ]
    }
   ],
   "source": [
    "query = \"\"\"\n",
    "    WITH cephalosporin_resistant AS (\n",
    "  SELECT subject_id, chartdate\n",
    "  FROM `physionet-data.mimiciv_3_1_hosp.microbiologyevents`\n",
    "  WHERE interpretation = 'R'\n",
    "    AND LOWER(ab_name) LIKE '%cef%'\n",
    "),\n",
    "\n",
    "carbapenem_susceptible AS (\n",
    "  SELECT subject_id, chartdate\n",
    "  FROM `physionet-data.mimiciv_3_1_hosp.microbiologyevents`\n",
    "  WHERE interpretation = 'S'\n",
    "    AND LOWER(ab_name) LIKE '%enem%'\n",
    "    AND LOWER(ab_name) NOT LIKE '%actam%' -- exclude combination therapies\n",
    "),\n",
    "\n",
    "-- Combine the above to identify ESBL profiles\n",
    "esbl_profile AS (\n",
    "  SELECT DISTINCT ceph.subject_id, ceph.chartdate\n",
    "  FROM cephalosporin_resistant ceph\n",
    "  INNER JOIN carbapenem_susceptible carb\n",
    "    ON ceph.subject_id = carb.subject_id\n",
    "   AND ceph.chartdate = carb.chartdate\n",
    "),\n",
    "\n",
    "-- filter for non-ESBL EKP samples\n",
    "non_esbl_ekp_samples AS (\n",
    "  SELECT DISTINCT subject_id, chartdate\n",
    "  FROM `physionet-data.mimiciv_3_1_hosp.microbiologyevents`\n",
    "  WHERE (\n",
    "    LOWER(org_name) LIKE '%escherichia coli%'\n",
    "    OR LOWER(org_name) LIKE '%klebsiella pneumoniae%'\n",
    "    OR LOWER(org_name) LIKE '%proteus mirabilis%'\n",
    "  )\n",
    "  EXCEPT DISTINCT\n",
    "  SELECT * FROM esbl_profile\n",
    ")\n",
    "\n",
    "-- Pull all antibiogram entries for those non-ESBL EKP samples\n",
    "SELECT patho.*\n",
    "FROM `physionet-data.mimiciv_3_1_hosp.microbiologyevents` AS patho\n",
    "JOIN non_esbl_ekp_samples AS non_esbl\n",
    "  ON patho.subject_id = non_esbl.subject_id\n",
    " AND patho.chartdate = non_esbl.chartdate\n",
    "WHERE (\n",
    "  LOWER(patho.org_name) LIKE '%escherichia coli%'\n",
    "  OR LOWER(patho.org_name) LIKE '%klebsiella pneumoniae%'\n",
    "  OR LOWER(patho.org_name) LIKE '%proteus mirabilis%'\n",
    ")\n",
    "AND patho.interpretation IS NOT NULL\n",
    "ORDER BY patho.subject_id, patho.chartdate;\n",
    "\n",
    "\"\"\"\n",
    "\n",
    "query_job = client.query(query)\n",
    "\n",
    "query_job.result()\n",
    "\n",
    "df = query_job.result().to_dataframe()\n",
    "\n",
    "print(df.head())\n",
    "\n",
    "\n",
    "# # Set up parameters\n",
    "# job_config = bigquery.QueryJobConfig(\n",
    "#     query_parameters=[\n",
    "#         bigquery.ScalarQueryParameter(\"subject_id\", \"INT64\", subject_id)\n",
    "#     ]\n",
    "# )\n",
    "\n",
    "# # Run query\n",
    "# query_job = client.query(query, job_config=job_config)\n",
    "# df = query_job.result().to_dataframe()\n",
    "\n",
    "# print(df.head())"
   ]
  },
  {
   "cell_type": "code",
   "execution_count": null,
   "id": "477f18ca",
   "metadata": {},
   "outputs": [],
   "source": []
  }
 ],
 "metadata": {
  "kernelspec": {
   "display_name": "mimic_env",
   "language": "python",
   "name": "python3"
  },
  "language_info": {
   "codemirror_mode": {
    "name": "ipython",
    "version": 3
   },
   "file_extension": ".py",
   "mimetype": "text/x-python",
   "name": "python",
   "nbconvert_exporter": "python",
   "pygments_lexer": "ipython3",
   "version": "3.13.2"
  }
 },
 "nbformat": 4,
 "nbformat_minor": 5
}
